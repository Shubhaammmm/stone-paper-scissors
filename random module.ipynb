{
 "cells": [
  {
   "cell_type": "code",
   "execution_count": null,
   "id": "d8229eba",
   "metadata": {},
   "outputs": [
    {
     "name": "stdout",
     "output_type": "stream",
     "text": [
      "Gamers action (stone,paper,scissors ):paper\n",
      "\n",
      "you chose  paper  , computer chose:  scissors\n",
      "YOU LOSE\n",
      "play again ??? (yes/no) yes\n",
      "Gamers action (stone,paper,scissors ):sf\n",
      "\n",
      "you chose  sf  , computer chose:  stone\n"
     ]
    }
   ],
   "source": [
    "import random \n",
    " \n",
    "while True:\n",
    "        Gamers_action = input(\"Gamers action (stone,paper,scissors ):\" )\n",
    "        probability_of_action=[\"stone\",\"paper\",\"scissors\"]\n",
    "        bot_action= random.choice(probability_of_action)\n",
    "        print(f\"\\nyou chose  {Gamers_action}  , computer chose:  {bot_action}\")\n",
    "        if Gamers_action==bot_action:\n",
    "            print(f\" both of them selected same action {Gamers_action},Its a tie!!!\")\n",
    "        elif Gamers_action==\"stone\":\n",
    "            if bot_action==\"paper\":\n",
    "                print(\"YOU LOSE\")\n",
    "            if bot_action==\"scissors\":\n",
    "                print(\"YOU WIN\")\n",
    "        elif Gamers_action==\"scissors\":\n",
    "            if bot_action==\"stone\":\n",
    "                print(\"YOU LOSE\")\n",
    "            if bot_action==\"paper\":\n",
    "                print(\"YOU WIN\")\n",
    "        elif Gamers_action==\"paper\":\n",
    "            if bot_action==\"scissors\":\n",
    "                print(\"YOU LOSE\")\n",
    "            if bot_action==\"stone\":\n",
    "                print(\"YOU WIN\")\n",
    "        play_again= input(\"play again ??? (yes/no) \") \n",
    "        if play_again!=\"yes\":\n",
    "            break"
   ]
  },
  {
   "cell_type": "code",
   "execution_count": null,
   "id": "938bf438",
   "metadata": {},
   "outputs": [],
   "source": []
  }
 ],
 "metadata": {
  "kernelspec": {
   "display_name": "Python 3 (ipykernel)",
   "language": "python",
   "name": "python3"
  },
  "language_info": {
   "codemirror_mode": {
    "name": "ipython",
    "version": 3
   },
   "file_extension": ".py",
   "mimetype": "text/x-python",
   "name": "python",
   "nbconvert_exporter": "python",
   "pygments_lexer": "ipython3",
   "version": "3.9.12"
  }
 },
 "nbformat": 4,
 "nbformat_minor": 5
}
